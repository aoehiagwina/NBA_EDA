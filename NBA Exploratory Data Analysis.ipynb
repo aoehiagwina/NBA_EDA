{
 "cells": [
  {
   "cell_type": "code",
   "execution_count": 1,
   "id": "b7d237a1",
   "metadata": {},
   "outputs": [],
   "source": [
    "import pandas as pd\n",
    "import numpy as np\n",
    "import matplotlib.pyplot as plt\n",
    "import seaborn as sns\n",
    "%matplotlib inline"
   ]
  },
  {
   "cell_type": "code",
   "execution_count": 2,
   "id": "7fb348fa",
   "metadata": {},
   "outputs": [
    {
     "data": {
      "text/html": [
       "<div>\n",
       "<style scoped>\n",
       "    .dataframe tbody tr th:only-of-type {\n",
       "        vertical-align: middle;\n",
       "    }\n",
       "\n",
       "    .dataframe tbody tr th {\n",
       "        vertical-align: top;\n",
       "    }\n",
       "\n",
       "    .dataframe thead th {\n",
       "        text-align: right;\n",
       "    }\n",
       "</style>\n",
       "<table border=\"1\" class=\"dataframe\">\n",
       "  <thead>\n",
       "    <tr style=\"text-align: right;\">\n",
       "      <th></th>\n",
       "      <th>Unnamed: 0</th>\n",
       "      <th>player_name</th>\n",
       "      <th>team_abbreviation</th>\n",
       "      <th>age</th>\n",
       "      <th>player_height</th>\n",
       "      <th>player_weight</th>\n",
       "      <th>college</th>\n",
       "      <th>country</th>\n",
       "      <th>draft_year</th>\n",
       "      <th>draft_round</th>\n",
       "      <th>...</th>\n",
       "      <th>pts</th>\n",
       "      <th>reb</th>\n",
       "      <th>ast</th>\n",
       "      <th>net_rating</th>\n",
       "      <th>oreb_pct</th>\n",
       "      <th>dreb_pct</th>\n",
       "      <th>usg_pct</th>\n",
       "      <th>ts_pct</th>\n",
       "      <th>ast_pct</th>\n",
       "      <th>season</th>\n",
       "    </tr>\n",
       "  </thead>\n",
       "  <tbody>\n",
       "    <tr>\n",
       "      <th>0</th>\n",
       "      <td>0</td>\n",
       "      <td>Travis Knight</td>\n",
       "      <td>LAL</td>\n",
       "      <td>22.0</td>\n",
       "      <td>213.36</td>\n",
       "      <td>106.59412</td>\n",
       "      <td>Connecticut</td>\n",
       "      <td>USA</td>\n",
       "      <td>1996</td>\n",
       "      <td>1</td>\n",
       "      <td>...</td>\n",
       "      <td>4.8</td>\n",
       "      <td>4.5</td>\n",
       "      <td>0.5</td>\n",
       "      <td>6.2</td>\n",
       "      <td>0.127</td>\n",
       "      <td>0.182</td>\n",
       "      <td>0.142</td>\n",
       "      <td>0.536</td>\n",
       "      <td>0.052</td>\n",
       "      <td>1996-97</td>\n",
       "    </tr>\n",
       "    <tr>\n",
       "      <th>1</th>\n",
       "      <td>1</td>\n",
       "      <td>Matt Fish</td>\n",
       "      <td>MIA</td>\n",
       "      <td>27.0</td>\n",
       "      <td>210.82</td>\n",
       "      <td>106.59412</td>\n",
       "      <td>North Carolina-Wilmington</td>\n",
       "      <td>USA</td>\n",
       "      <td>1992</td>\n",
       "      <td>2</td>\n",
       "      <td>...</td>\n",
       "      <td>0.3</td>\n",
       "      <td>0.8</td>\n",
       "      <td>0.0</td>\n",
       "      <td>-15.1</td>\n",
       "      <td>0.143</td>\n",
       "      <td>0.267</td>\n",
       "      <td>0.265</td>\n",
       "      <td>0.333</td>\n",
       "      <td>0.000</td>\n",
       "      <td>1996-97</td>\n",
       "    </tr>\n",
       "    <tr>\n",
       "      <th>2</th>\n",
       "      <td>2</td>\n",
       "      <td>Matt Bullard</td>\n",
       "      <td>HOU</td>\n",
       "      <td>30.0</td>\n",
       "      <td>208.28</td>\n",
       "      <td>106.59412</td>\n",
       "      <td>Iowa</td>\n",
       "      <td>USA</td>\n",
       "      <td>Undrafted</td>\n",
       "      <td>Undrafted</td>\n",
       "      <td>...</td>\n",
       "      <td>4.5</td>\n",
       "      <td>1.6</td>\n",
       "      <td>0.9</td>\n",
       "      <td>0.9</td>\n",
       "      <td>0.016</td>\n",
       "      <td>0.115</td>\n",
       "      <td>0.151</td>\n",
       "      <td>0.535</td>\n",
       "      <td>0.099</td>\n",
       "      <td>1996-97</td>\n",
       "    </tr>\n",
       "    <tr>\n",
       "      <th>3</th>\n",
       "      <td>3</td>\n",
       "      <td>Marty Conlon</td>\n",
       "      <td>BOS</td>\n",
       "      <td>29.0</td>\n",
       "      <td>210.82</td>\n",
       "      <td>111.13004</td>\n",
       "      <td>Providence</td>\n",
       "      <td>USA</td>\n",
       "      <td>Undrafted</td>\n",
       "      <td>Undrafted</td>\n",
       "      <td>...</td>\n",
       "      <td>7.8</td>\n",
       "      <td>4.4</td>\n",
       "      <td>1.4</td>\n",
       "      <td>-9.0</td>\n",
       "      <td>0.083</td>\n",
       "      <td>0.152</td>\n",
       "      <td>0.167</td>\n",
       "      <td>0.542</td>\n",
       "      <td>0.101</td>\n",
       "      <td>1996-97</td>\n",
       "    </tr>\n",
       "    <tr>\n",
       "      <th>4</th>\n",
       "      <td>4</td>\n",
       "      <td>Martin Muursepp</td>\n",
       "      <td>DAL</td>\n",
       "      <td>22.0</td>\n",
       "      <td>205.74</td>\n",
       "      <td>106.59412</td>\n",
       "      <td>None</td>\n",
       "      <td>USA</td>\n",
       "      <td>1996</td>\n",
       "      <td>1</td>\n",
       "      <td>...</td>\n",
       "      <td>3.7</td>\n",
       "      <td>1.6</td>\n",
       "      <td>0.5</td>\n",
       "      <td>-14.5</td>\n",
       "      <td>0.109</td>\n",
       "      <td>0.118</td>\n",
       "      <td>0.233</td>\n",
       "      <td>0.482</td>\n",
       "      <td>0.114</td>\n",
       "      <td>1996-97</td>\n",
       "    </tr>\n",
       "  </tbody>\n",
       "</table>\n",
       "<p>5 rows × 22 columns</p>\n",
       "</div>"
      ],
      "text/plain": [
       "   Unnamed: 0      player_name team_abbreviation   age  player_height  \\\n",
       "0           0    Travis Knight               LAL  22.0         213.36   \n",
       "1           1        Matt Fish               MIA  27.0         210.82   \n",
       "2           2     Matt Bullard               HOU  30.0         208.28   \n",
       "3           3     Marty Conlon               BOS  29.0         210.82   \n",
       "4           4  Martin Muursepp               DAL  22.0         205.74   \n",
       "\n",
       "   player_weight                    college country draft_year draft_round  \\\n",
       "0      106.59412                Connecticut     USA       1996           1   \n",
       "1      106.59412  North Carolina-Wilmington     USA       1992           2   \n",
       "2      106.59412                       Iowa     USA  Undrafted   Undrafted   \n",
       "3      111.13004                 Providence     USA  Undrafted   Undrafted   \n",
       "4      106.59412                       None     USA       1996           1   \n",
       "\n",
       "   ...  pts  reb  ast  net_rating  oreb_pct  dreb_pct  usg_pct  ts_pct  \\\n",
       "0  ...  4.8  4.5  0.5         6.2     0.127     0.182    0.142   0.536   \n",
       "1  ...  0.3  0.8  0.0       -15.1     0.143     0.267    0.265   0.333   \n",
       "2  ...  4.5  1.6  0.9         0.9     0.016     0.115    0.151   0.535   \n",
       "3  ...  7.8  4.4  1.4        -9.0     0.083     0.152    0.167   0.542   \n",
       "4  ...  3.7  1.6  0.5       -14.5     0.109     0.118    0.233   0.482   \n",
       "\n",
       "   ast_pct   season  \n",
       "0    0.052  1996-97  \n",
       "1    0.000  1996-97  \n",
       "2    0.099  1996-97  \n",
       "3    0.101  1996-97  \n",
       "4    0.114  1996-97  \n",
       "\n",
       "[5 rows x 22 columns]"
      ]
     },
     "execution_count": 2,
     "metadata": {},
     "output_type": "execute_result"
    }
   ],
   "source": [
    "nba_data = pd.read_csv('all_seasons.csv')\n",
    "nba_data.head()"
   ]
  },
  {
   "cell_type": "code",
   "execution_count": 3,
   "id": "12d2816e",
   "metadata": {},
   "outputs": [
    {
     "name": "stdout",
     "output_type": "stream",
     "text": [
      "Unnamed: 0             int64\n",
      "player_name           object\n",
      "team_abbreviation     object\n",
      "age                  float64\n",
      "player_height        float64\n",
      "player_weight        float64\n",
      "college               object\n",
      "country               object\n",
      "draft_year            object\n",
      "draft_round           object\n",
      "draft_number          object\n",
      "gp                     int64\n",
      "pts                  float64\n",
      "reb                  float64\n",
      "ast                  float64\n",
      "net_rating           float64\n",
      "oreb_pct             float64\n",
      "dreb_pct             float64\n",
      "usg_pct              float64\n",
      "ts_pct               float64\n",
      "ast_pct              float64\n",
      "season                object\n",
      "dtype: object\n"
     ]
    }
   ],
   "source": [
    "print(nba_data.dtypes)"
   ]
  },
  {
   "cell_type": "code",
   "execution_count": 5,
   "id": "274e69fb",
   "metadata": {},
   "outputs": [
    {
     "name": "stdout",
     "output_type": "stream",
     "text": [
      "The minimum and maximum ages of players are 18.0 and 44.0\n"
     ]
    }
   ],
   "source": [
    "players_ages = nba_data['age']\n",
    "minimum_age = players_ages.min()\n",
    "maximum_age = players_ages.max()\n",
    "print('The minimum and maximum ages of players are {} and {}'.format(minimum_age, maximum_age))"
   ]
  },
  {
   "cell_type": "code",
   "execution_count": 6,
   "id": "115cfd55",
   "metadata": {},
   "outputs": [
    {
     "name": "stdout",
     "output_type": "stream",
     "text": [
      "      binned_ages   age\n",
      "0        (20, 25]  22.0\n",
      "1        (25, 30]  27.0\n",
      "2        (25, 30]  30.0\n",
      "3        (25, 30]  29.0\n",
      "4        (20, 25]  22.0\n",
      "...           ...   ...\n",
      "11695    (25, 30]  30.0\n",
      "11696    (25, 30]  28.0\n",
      "11697    (20, 25]  25.0\n",
      "11698    (30, 35]  31.0\n",
      "11699    (20, 25]  25.0\n",
      "\n",
      "[11700 rows x 2 columns]\n"
     ]
    }
   ],
   "source": [
    "bins = [15, 20, 25, 30, 35, 40, 45]\n",
    "nba_data['binned_ages'] = pd.cut(nba_data['age'], bins)\n",
    "print(nba_data[['binned_ages', 'age']])"
   ]
  },
  {
   "cell_type": "code",
   "execution_count": 7,
   "id": "4c4bd703",
   "metadata": {},
   "outputs": [
    {
     "data": {
      "image/png": "[encoded data removed]",
      "text/plain": [
       "<Figure size 432x288 with 1 Axes>"
      ]
     },
     "metadata": {
      "needs_background": "light"
     },
     "output_type": "display_data"
    }
   ],
   "source": [
    "nba_data['binned_ages'].value_counts().plot(kind='bar')\n",
    "\n",
    "plt.title('NBA Age Distribution')\n",
    "plt.xlabel('Ages')\n",
    "plt.ylabel('Count')\n",
    "\n",
    "plt.show()"
   ]
  },
  {
   "cell_type": "code",
   "execution_count": null,
   "id": "6a25a7b9",
   "metadata": {},
   "outputs": [],
   "source": []
  },
  {
   "cell_type": "code",
   "execution_count": null,
   "id": "02c71c36",
   "metadata": {},
   "outputs": [],
   "source": []
  },
  {
   "cell_type": "code",
   "execution_count": null,
   "id": "50f3724a",
   "metadata": {},
   "outputs": [],
   "source": []
  },
  {
   "cell_type": "code",
   "execution_count": null,
   "id": "1432a171",
   "metadata": {},
   "outputs": [],
   "source": []
  },
  {
   "cell_type": "code",
   "execution_count": null,
   "id": "b984c2b6",
   "metadata": {},
   "outputs": [],
   "source": []
  },
  {
   "cell_type": "code",
   "execution_count": null,
   "id": "006c6672",
   "metadata": {},
   "outputs": [],
   "source": []
  },
  {
   "cell_type": "code",
   "execution_count": null,
   "id": "e46a992c",
   "metadata": {},
   "outputs": [],
   "source": []
  },
  {
   "cell_type": "code",
   "execution_count": null,
   "id": "c1df0a62",
   "metadata": {},
   "outputs": [],
   "source": []
  },
  {
   "cell_type": "code",
   "execution_count": null,
   "id": "b03ce6a3",
   "metadata": {},
   "outputs": [],
   "source": []
  },
  {
   "cell_type": "code",
   "execution_count": null,
   "id": "7954a22a",
   "metadata": {},
   "outputs": [],
   "source": []
  },
  {
   "cell_type": "code",
   "execution_count": null,
   "id": "6afd6be0",
   "metadata": {},
   "outputs": [],
   "source": []
  }
 ],
 "metadata": {
  "kernelspec": {
   "display_name": "Python 3 (ipykernel)",
   "language": "python",
   "name": "python3"
  },
  "language_info": {
   "codemirror_mode": {
    "name": "ipython",
    "version": 3
   },
   "file_extension": ".py",
   "mimetype": "text/x-python",
   "name": "python",
   "nbconvert_exporter": "python",
   "pygments_lexer": "ipython3",
   "version": "3.9.7"
  }
 },
 "nbformat": 4,
 "nbformat_minor": 5
}
